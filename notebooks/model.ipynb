{
 "cells": [
  {
   "cell_type": "code",
   "execution_count": 1,
   "metadata": {
    "collapsed": true
   },
   "outputs": [],
   "source": [
    "from core import *\n",
    "\n",
    "%load_ext autoreload\n",
    "%autoreload 2"
   ]
  },
  {
   "cell_type": "code",
   "execution_count": 2,
   "outputs": [
    {
     "data": {
      "text/plain": "       season  holiday  workingday  weather   temp   atemp  humidity  \\\n0           1        0           0        1   9.84  14.395        81   \n1           1        0           0        1   9.02  13.635        80   \n2           1        0           0        1   9.02  13.635        80   \n3           1        0           0        1   9.84  14.395        75   \n4           1        0           0        1   9.84  14.395        75   \n...       ...      ...         ...      ...    ...     ...       ...   \n10881       4        0           1        1  15.58  19.695        50   \n10882       4        0           1        1  14.76  17.425        57   \n10883       4        0           1        1  13.94  15.910        61   \n10884       4        0           1        1  13.94  17.425        61   \n10885       4        0           1        1  13.12  16.665        66   \n\n       windspeed  count  hour  month  \n0         0.0000     16     0      1  \n1         0.0000     40     1      1  \n2         0.0000     32     2      1  \n3         0.0000     13     3      1  \n4         0.0000      1     4      1  \n...          ...    ...   ...    ...  \n10881    26.0027    336    19     12  \n10882    15.0013    241    20     12  \n10883    15.0013    168    21     12  \n10884     6.0032    129    22     12  \n10885     8.9981     88    23     12  \n\n[10886 rows x 11 columns]",
      "text/html": "<div>\n<style scoped>\n    .dataframe tbody tr th:only-of-type {\n        vertical-align: middle;\n    }\n\n    .dataframe tbody tr th {\n        vertical-align: top;\n    }\n\n    .dataframe thead th {\n        text-align: right;\n    }\n</style>\n<table border=\"1\" class=\"dataframe\">\n  <thead>\n    <tr style=\"text-align: right;\">\n      <th></th>\n      <th>season</th>\n      <th>holiday</th>\n      <th>workingday</th>\n      <th>weather</th>\n      <th>temp</th>\n      <th>atemp</th>\n      <th>humidity</th>\n      <th>windspeed</th>\n      <th>count</th>\n      <th>hour</th>\n      <th>month</th>\n    </tr>\n  </thead>\n  <tbody>\n    <tr>\n      <th>0</th>\n      <td>1</td>\n      <td>0</td>\n      <td>0</td>\n      <td>1</td>\n      <td>9.84</td>\n      <td>14.395</td>\n      <td>81</td>\n      <td>0.0000</td>\n      <td>16</td>\n      <td>0</td>\n      <td>1</td>\n    </tr>\n    <tr>\n      <th>1</th>\n      <td>1</td>\n      <td>0</td>\n      <td>0</td>\n      <td>1</td>\n      <td>9.02</td>\n      <td>13.635</td>\n      <td>80</td>\n      <td>0.0000</td>\n      <td>40</td>\n      <td>1</td>\n      <td>1</td>\n    </tr>\n    <tr>\n      <th>2</th>\n      <td>1</td>\n      <td>0</td>\n      <td>0</td>\n      <td>1</td>\n      <td>9.02</td>\n      <td>13.635</td>\n      <td>80</td>\n      <td>0.0000</td>\n      <td>32</td>\n      <td>2</td>\n      <td>1</td>\n    </tr>\n    <tr>\n      <th>3</th>\n      <td>1</td>\n      <td>0</td>\n      <td>0</td>\n      <td>1</td>\n      <td>9.84</td>\n      <td>14.395</td>\n      <td>75</td>\n      <td>0.0000</td>\n      <td>13</td>\n      <td>3</td>\n      <td>1</td>\n    </tr>\n    <tr>\n      <th>4</th>\n      <td>1</td>\n      <td>0</td>\n      <td>0</td>\n      <td>1</td>\n      <td>9.84</td>\n      <td>14.395</td>\n      <td>75</td>\n      <td>0.0000</td>\n      <td>1</td>\n      <td>4</td>\n      <td>1</td>\n    </tr>\n    <tr>\n      <th>...</th>\n      <td>...</td>\n      <td>...</td>\n      <td>...</td>\n      <td>...</td>\n      <td>...</td>\n      <td>...</td>\n      <td>...</td>\n      <td>...</td>\n      <td>...</td>\n      <td>...</td>\n      <td>...</td>\n    </tr>\n    <tr>\n      <th>10881</th>\n      <td>4</td>\n      <td>0</td>\n      <td>1</td>\n      <td>1</td>\n      <td>15.58</td>\n      <td>19.695</td>\n      <td>50</td>\n      <td>26.0027</td>\n      <td>336</td>\n      <td>19</td>\n      <td>12</td>\n    </tr>\n    <tr>\n      <th>10882</th>\n      <td>4</td>\n      <td>0</td>\n      <td>1</td>\n      <td>1</td>\n      <td>14.76</td>\n      <td>17.425</td>\n      <td>57</td>\n      <td>15.0013</td>\n      <td>241</td>\n      <td>20</td>\n      <td>12</td>\n    </tr>\n    <tr>\n      <th>10883</th>\n      <td>4</td>\n      <td>0</td>\n      <td>1</td>\n      <td>1</td>\n      <td>13.94</td>\n      <td>15.910</td>\n      <td>61</td>\n      <td>15.0013</td>\n      <td>168</td>\n      <td>21</td>\n      <td>12</td>\n    </tr>\n    <tr>\n      <th>10884</th>\n      <td>4</td>\n      <td>0</td>\n      <td>1</td>\n      <td>1</td>\n      <td>13.94</td>\n      <td>17.425</td>\n      <td>61</td>\n      <td>6.0032</td>\n      <td>129</td>\n      <td>22</td>\n      <td>12</td>\n    </tr>\n    <tr>\n      <th>10885</th>\n      <td>4</td>\n      <td>0</td>\n      <td>1</td>\n      <td>1</td>\n      <td>13.12</td>\n      <td>16.665</td>\n      <td>66</td>\n      <td>8.9981</td>\n      <td>88</td>\n      <td>23</td>\n      <td>12</td>\n    </tr>\n  </tbody>\n</table>\n<p>10886 rows × 11 columns</p>\n</div>"
     },
     "execution_count": 2,
     "metadata": {},
     "output_type": "execute_result"
    }
   ],
   "source": [
    "import pandas as pd\n",
    "\n",
    "ds_baseline, ds_baseline_test = pd.read_csv('../data/feed/feed_baseline.csv'), pd.read_csv('../data/feed/feed_baseline_test.csv')\n",
    "ds_baseline"
   ],
   "metadata": {
    "collapsed": false,
    "pycharm": {
     "name": "#%%\n"
    }
   }
  },
  {
   "cell_type": "code",
   "execution_count": 3,
   "outputs": [
    {
     "data": {
      "text/plain": "1.337817333580025"
     },
     "execution_count": 3,
     "metadata": {},
     "output_type": "execute_result"
    }
   ],
   "source": [
    "from sklearn.linear_model import LinearRegression\n",
    "from core import *\n",
    "\n",
    "X_bs, y_bs = ds_baseline.drop('count', axis=1), ds_baseline['count']\n",
    "\n",
    "baseline = LinearRegression()\n",
    "cross_val_score(baseline,\n",
    "                X_bs, y_bs,\n",
    "                scoring=make_scorer(rmsle)).mean()"
   ],
   "metadata": {
    "collapsed": false,
    "pycharm": {
     "name": "#%%\n"
    }
   }
  },
  {
   "cell_type": "code",
   "execution_count": 4,
   "outputs": [],
   "source": [
    "baseline.fit(X_bs, y_bs)\n",
    "make_sub(baseline.predict(ds_baseline_test), '../data/out/bs.csv')"
   ],
   "metadata": {
    "collapsed": false,
    "pycharm": {
     "name": "#%%\n"
    }
   }
  },
  {
   "cell_type": "code",
   "execution_count": 5,
   "outputs": [
    {
     "name": "stdout",
     "output_type": "stream",
     "text": [
      "0.5864893538361275\n"
     ]
    }
   ],
   "source": [
    "from sklearn.ensemble import RandomForestRegressor\n",
    "\n",
    "eval_model(RandomForestRegressor(), X_bs, y_bs)"
   ],
   "metadata": {
    "collapsed": false,
    "pycharm": {
     "name": "#%%\n"
    }
   }
  },
  {
   "cell_type": "code",
   "execution_count": 33,
   "outputs": [],
   "source": [
    "eval_data(RandomForestRegressor(),\n",
    "          '../data/feed/feed_2[outliers,day of week,groupby].csv',\n",
    "          '../data/feed/feed_2[outliers,day of week,groupby]_test.csv',\n",
    "          '../data/out/rf_2.csv',\n",
    "          export_test_set=True)"
   ],
   "metadata": {
    "collapsed": false,
    "pycharm": {
     "name": "#%%\n"
    }
   }
  },
  {
   "cell_type": "code",
   "execution_count": 34,
   "outputs": [],
   "source": [
    "from core import *\n",
    "\n",
    "def create_rf_model(trial):\n",
    "    return RandomForestRegressor(\n",
    "        min_samples_leaf=trial.suggest_int(\"min_samples_leaf\", 1, 15),\n",
    "        min_samples_split=trial.suggest_uniform(\"min_samples_split\", 0.05, 1.0),\n",
    "        n_estimators=trial.suggest_int(\"n_estimators\", 2, 300),\n",
    "        max_depth=trial.suggest_int(\"max_depth\", 2, 15),\n",
    "        random_state=666\n",
    "    )\n",
    "\n",
    "optimize(create_rf_model,\n",
    "         path='../data/feed/feed_2[outliers,day of week,groupby].csv',\n",
    "         direction='minimize',\n",
    "         trials=200)"
   ],
   "metadata": {
    "collapsed": false,
    "pycharm": {
     "name": "#%%\n"
    }
   }
  },
  {
   "cell_type": "code",
   "execution_count": 35,
   "outputs": [],
   "source": [
    "optimize('RFR',\n",
    "         path='../data/feed/feed_2[outliers,day of week,groupby].csv',\n",
    "         direction='minimize',\n",
    "         trials=50)"
   ],
   "metadata": {
    "collapsed": false,
    "pycharm": {
     "name": "#%%\n"
    }
   }
  },
  {
   "cell_type": "code",
   "execution_count": 37,
   "outputs": [],
   "source": [
    "from xgboost import XGBRegressor\n",
    "from mlens.ensemble import SuperLearner\n",
    "from sklearn.tree import DecisionTreeRegressor\n",
    "\n",
    "model = SuperLearner()\n",
    "model.add([\n",
    "    LGBMRegressor(**{'learning_rate': 0.013264625110413585,\n",
    "                     'n_estimators': 406, 'max_depth': 25,\n",
    "                     'num_leaves': 1253, 'min_child_samples': 10}),\n",
    "    XGBRegressor(**{'learning_rate': 0.006438488538697672,\n",
    "                    'n_estimators': 579, 'max_depth': 12,\n",
    "                    'gamma': 0.9267817436177146})\n",
    "])\n",
    "model.add_meta(RandomForestRegressor(**{'min_samples_leaf': 2,\n",
    "                             'min_samples_split': 0.010039195988554477,\n",
    "                             'n_estimators': 231, 'max_depth': 16}))\n",
    "eval_data(model,\n",
    "    '../data/feed/feed_baseline.csv',\n",
    "    '../data/feed/feed_baseline_test.csv',\n",
    "    '../data/out/rf_2.csv',\n",
    "    export_test_set=True\n",
    ")"
   ],
   "metadata": {
    "collapsed": false,
    "pycharm": {
     "name": "#%%\n"
    }
   }
  },
  {
   "cell_type": "code",
   "execution_count": 26,
   "outputs": [],
   "source": [
    "from xgboost import XGBRegressor\n",
    "import math\n",
    "from core import eval_data\n",
    "from sklearn.ensemble import GradientBoostingRegressor\n",
    "\n",
    "# xgb_model = XGBRegressor(**{'learning_rate': 0.13190716148710585, 'n_estimators': 161, 'max_depth': 6, 'gamma': 0.046580638517337444})\n",
    "xgb_model = GradientBoostingRegressor(n_estimators=4000,alpha=0.01)\n",
    "\n",
    "eval_data(xgb_model,\n",
    "    '../data/feed/feed_3[log].csv',\n",
    "    '../data/feed/feed_3[log]_test.csv',\n",
    "    '../data/out/!gb_3[no].csv',\n",
    "    evaluate=False,\n",
    "    export_test_set=True,\n",
    "    target_transform_fn=np.expm1\n",
    ")"
   ],
   "metadata": {
    "collapsed": false,
    "pycharm": {
     "name": "#%%\n"
    }
   }
  },
  {
   "cell_type": "code",
   "execution_count": 25,
   "outputs": [],
   "source": [
    "from lightgbm import LGBMRegressor\n",
    "\n",
    "lgb_model = LGBMRegressor(**{'learning_rate': 0.06325519603377378, 'n_estimators': 785, 'max_depth': 22, 'num_leaves': 1973, 'min_child_samples': 157})\n",
    "\n",
    "eval_data(lgb_model,\n",
    "    '../data/feed/feed_3[log].csv',\n",
    "    '../data/feed/feed_3[log]_test.csv',\n",
    "    '../data/out/!lgb_3.csv',\n",
    "    evaluate=False,\n",
    "    export_test_set=True,\n",
    "    target_transform_fn=np.expm1\n",
    ")"
   ],
   "metadata": {
    "collapsed": false,
    "pycharm": {
     "name": "#%%\n"
    }
   }
  },
  {
   "cell_type": "code",
   "execution_count": null,
   "outputs": [],
   "source": [],
   "metadata": {
    "collapsed": false,
    "pycharm": {
     "name": "#%%\n"
    }
   }
  }
 ],
 "metadata": {
  "kernelspec": {
   "display_name": "Python 3",
   "language": "python",
   "name": "python3"
  },
  "language_info": {
   "codemirror_mode": {
    "name": "ipython",
    "version": 2
   },
   "file_extension": ".py",
   "mimetype": "text/x-python",
   "name": "python",
   "nbconvert_exporter": "python",
   "pygments_lexer": "ipython2",
   "version": "2.7.6"
  }
 },
 "nbformat": 4,
 "nbformat_minor": 0
}